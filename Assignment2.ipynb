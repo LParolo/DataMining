{
 "cells": [
  {
   "cell_type": "markdown",
   "metadata": {},
   "source": [
    "# Homework assignment 3: Decision trees and ROC curves\n",
    "\n",
    "** Objective: ** The objective of this exercise is to become familiar with fitting decision trees and\n",
    "making ROC curves in Python.\n",
    "\n",
    "** Material: ** Pang-Ning Tan, Michael Steinbach, and Vipin Kumar, Introduction to Data Mining, section 4.1-4.6, as well as the included article on ROC curves.\n",
    "\n",
    "** Important: ** When handing in your homework:\n",
    "+ Provide clear and complete answers to the questions below under a seperate header (not hidden somewhere in your source code), and make sure to explain your answers / motivate your choices.\n",
    "+ Source code, output graphs, derivations, etc., should be included in the notebook.\n",
    "+ Before you hand in your assignment, make sure all figures include legends, titles, and axis-labels as necessary. \n",
    "+ Hand-in: upload to Blackboard.\n",
    "+ Include name, student number, assignment (especially in filenames)\n",
    "+ When working in pairs only one of you should upload the assignment, and report the name of your partner in your filename.\n",
    "+ For problems or questions: use the BB discussion board or email the student assistants.\n",
    "\n",
    "This exercise is based upon material kindly provided by the Cognitive System Section, DTU Compute,\n",
    "http://cogsys.compute.dtu.dk. Any sale or commercial distribution is strictly forbidden.\n",
    "\n",
    "\n",
    "## While notebooks are good for handing in homework, the actual programming can best be done in an IDE like Spyder (which comes with Anaconda). This is easier for debugging, variable checking, and checking the python doc of the function you're using. "
   ]
  },
  {
   "cell_type": "markdown",
   "metadata": {},
   "source": [
    "#### Luca Parolo: s1009497"
   ]
  },
  {
   "cell_type": "markdown",
   "metadata": {},
   "source": [
    "## 3.1 Decision trees\n",
    "\n",
    "In this part of the exercise we will fit decision trees using the scikitlearn classifier\n",
    "`sklearn.tree.DecisionTreeClassifier`. As a splitting criterion, the function uses\n",
    "one of the following two impurity measures:\n",
    "\n",
    "\\begin{equation} \\textrm{gdi}(t) = -\\sum_{i=1}^C p(i|t)^2 \\quad \\text{       equivalent to Gini(t)} \\end{equation}   \n",
    "\n",
    "\\begin{equation}\n",
    "\\textrm{deviance}(t) = -2\\sum_{i=1}^C p(i|t) \\log p(i|t) \\quad \\text{equivalent to Entropy(t)} \n",
    "\\end{equation}\n",
    "\n",
    "We will analyze the wine data we have used previously. The wine data set has the following attributes, all of which are continuous: \n",
    "\n",
    "\n",
    "| #             | Attribute     | Unit  |\n",
    "| ------------- |:-------------| -----:|\n",
    "|1 | Fixed acidity (tartaric) | g/dm$^3$ |\n",
    "|2 | Volatile acidity (acetic) | g/dm$^3$ |\n",
    "|3 | Citric acid | g/dm$^3$ |\n",
    "|4 | Residual sugar | g/dm$^3$ |\n",
    "|5 | Chlorides | g/dm$^3$ |\n",
    "|6 | Free sulfur dioxide | mg/dm$^3$ |\n",
    "|7 | Total sulfur dioxide | mg/dm$^3$ |\n",
    "|8 | Density | g/cm$^3$ |\n",
    "|9 | pH | pH |\n",
    "|10 | Sulphates | g/dm$^3$ |\n",
    "|11 | Alcohol | % vol. | \n",
    "\n",
    "\n",
    "#### 3.1.1\n",
    "Load the wine data set `Data/wine.mat`. This contains the same data as used in the earlier assignment, but with outliers and the 12th attribute already removed. ** To make sure all data has the correct shape, type, or values that you expect, I strongly recommend making this assignment in the Spyder IDE and checking out the variable explorer. ** \n",
    "\n",
    "   ** hints: **   \n",
    "*The object in wine.mat is a dictionary. The attributes are stored in matrix $X$, the class in vector $y$. $y$ might be shaped as an array containing single element arrays. To flatten $y$, you can use `y.ravel()`. Attribute names and class names are stored in the attributeNames and classNames objects, which contain arrays, of which the first element contains the names. To get the names from those arrays, you can use list comprehension, e.g. 'attributeNames = [i[0] for i in wine_data['attributeNames'][0]]' . For more on list comprehension, check http://www.secnetix.de/olli/Python/list_comprehensions.hawk *\n",
    "\n"
   ]
  },
  {
   "cell_type": "code",
   "execution_count": 2,
   "metadata": {
    "collapsed": true
   },
   "outputs": [],
   "source": [
    "import numpy as np\n",
    "from scipy.io import loadmat\n",
    "import scipy.io\n",
    "import scipy as sp\n",
    "from sklearn import tree\n",
    "\n",
    "##I load the wine dataset\n",
    "wine_data = sp.io.loadmat(\"C:/Users/Luca/Desktop/wine.mat\")\n",
    "\n",
    "##I extrapolate the array called \"X\" which contains the rows we are intersted\n",
    "\n",
    "wine_wines=wine_data['X']\n",
    "\n",
    "##I extrapolate the array called \"y\" which contains the class denomination (red or white)\n",
    "\n",
    "wine_class=wine_data['y']\n",
    "\n"
   ]
  },
  {
   "cell_type": "code",
   "execution_count": 3,
   "metadata": {},
   "outputs": [
    {
     "data": {
      "text/plain": [
       "(6304, 11)"
      ]
     },
     "execution_count": 3,
     "metadata": {},
     "output_type": "execute_result"
    }
   ],
   "source": [
    "##As expected the wine_wines array contains the rows, we have 6305 rows for 11 attributes\n",
    "\n",
    "np.shape(wine_wines)\n"
   ]
  },
  {
   "cell_type": "code",
   "execution_count": 4,
   "metadata": {},
   "outputs": [
    {
     "data": {
      "text/plain": [
       "(6304, 1)"
      ]
     },
     "execution_count": 4,
     "metadata": {},
     "output_type": "execute_result"
    }
   ],
   "source": [
    "##As expected the wine_class array contains the class, we have 6305 rows for 11 attributes\n",
    "np.shape(wine_class)\n"
   ]
  },
  {
   "cell_type": "code",
   "execution_count": 5,
   "metadata": {},
   "outputs": [
    {
     "data": {
      "text/plain": [
       "array([0, 0, 0, ..., 1, 1, 1], dtype=uint8)"
      ]
     },
     "execution_count": 5,
     "metadata": {},
     "output_type": "execute_result"
    }
   ],
   "source": [
    "##We can reshape our class array\n",
    "\n",
    "wine_class.ravel()"
   ]
  },
  {
   "cell_type": "markdown",
   "metadata": {},
   "source": [
    "#### 3.1.2\n",
    " (2 pts) Fit a decision tree to the wine data in order to estimate if the wine is red or white. Use the Gini (gdi) splitting criterion. Use `min_samples_split=100` for the stopping criterion. Explain what happens when you change the values of the parameter `min_samples_split`. After fitting the tree, visualize it with the tree_print function in `treeprint.py`. \n",
    "\n",
    "** hints: **   \n",
    "*Help documentation for the DecisionTreeClassifier function can be found at * http://scikit-learn.org/stable/modules/tree.html#classification  \n",
    "\n",
    "\n",
    "#### Answer theoretical questions:\n",
    " The min_sample_split parameter makes possible to decide the \"minimum number of samples required to split an internal node\". This means that , in the case we use 100 , the decision tree will need at least 100 records to split a leaf. In the case that the number is too small, it is higly probable that the decision tree will overfit, reproducing exactly the data in the dataset but not being able to make useful prediction; if on the other hand the number is too high the decision tree will not be able to split one node when would be necessary and usefull, and doing so it will not learn.\n"
   ]
  },
  {
   "cell_type": "code",
   "execution_count": 6,
   "metadata": {
    "collapsed": true,
    "scrolled": false
   },
   "outputs": [],
   "source": [
    "from sklearn import tree\n",
    "import treeprint"
   ]
  },
  {
   "cell_type": "code",
   "execution_count": 7,
   "metadata": {
    "collapsed": true
   },
   "outputs": [],
   "source": [
    "## Now we can feed our decision tree with the 2 arrays\n",
    "\n",
    "clf = tree.DecisionTreeClassifier(criterion=\"gini\",min_samples_split=100)\n",
    "clf = clf.fit(wine_wines,wine_class)\n"
   ]
  },
  {
   "cell_type": "code",
   "execution_count": 8,
   "metadata": {
    "collapsed": true
   },
   "outputs": [],
   "source": [
    "##we create an array with the attribute names\n",
    "\n",
    "attribute_names=[\"Fixed acidity\", \"Volatile acidity\", \"Citric acid\", \"Residual sugar\", \"Chlorides\",\"Free sulfur dioxide\",\"Total sulfur dioxide\",\"Density\",\"pH\",\"Sulphates\",\"Alcohol\"]\n",
    "\n",
    "\n",
    "##ANd one array with the class names\n",
    "\n",
    "class_names=[\"Red\",\"White\"]"
   ]
  },
  {
   "cell_type": "code",
   "execution_count": 9,
   "metadata": {},
   "outputs": [
    {
     "name": "stdout",
     "output_type": "stream",
     "text": [
      "         |->3  White\n",
      "         |\n",
      "      |->2 then if Sulphates =< 0.5550000071525574: go to 3, else go to 4\n",
      "      |  |\n",
      "      |  |->4  White\n",
      "      |\n",
      "   |->1 then if Chlorides =< 0.04649999737739563: go to 2, else go to 5\n",
      "   |  |\n",
      "   |  |  |->6  White\n",
      "   |  |  |\n",
      "   |  |->5 else if Sulphates =< 0.36500000953674316: go to 6, else go to 7\n",
      "   |     |\n",
      "   |     |  |->8  White\n",
      "   |     |  |\n",
      "   |     |->7 else if Density =< 0.990820050239563: go to 8, else go to 9\n",
      "   |        |\n",
      "   |        |     |->11  White\n",
      "   |        |     |\n",
      "   |        |  |->10 then if Residual sugar =< 1.100000023841858: go to 11, else go to 12\n",
      "   |        |  |  |\n",
      "   |        |  |  |  |->13  Red\n",
      "   |        |  |  |  |\n",
      "   |        |  |  |->12 else if Density =< 0.9927499890327454: go to 13, else go to 14\n",
      "   |        |  |     |\n",
      "   |        |  |     |  |->15  Red\n",
      "   |        |  |     |  |\n",
      "   |        |  |     |->14 else if Chlorides =< 0.050999999046325684: go to 15, else go to 16\n",
      "   |        |  |        |\n",
      "   |        |  |        |  |->17  Red\n",
      "   |        |  |        |  |\n",
      "   |        |  |        |->16 else if Sulphates =< 0.45499998331069946: go to 17, else go to 18\n",
      "   |        |  |           |\n",
      "   |        |  |           |->18  Red\n",
      "   |        |  |\n",
      "   |        |->9 else if Residual sugar =< 10.699999809265137: go to 10, else go to 19\n",
      "   |           |\n",
      "   |           |->19  White\n",
      "   |\n",
      "if Total sulfur dioxide =< 66.5: go to 1, else go to 20\n",
      "   |\n",
      "   |                 |->26  Red\n",
      "   |                 |\n",
      "   |              |->25 then if Chlorides =< 0.013000000268220901: go to 26, else go to 27\n",
      "   |              |  |\n",
      "   |              |  |        |->30  White\n",
      "   |              |  |        |\n",
      "   |              |  |     |->29 then if Citric acid =< 0.0949999988079071: go to 30, else go to 31\n",
      "   |              |  |     |  |\n",
      "   |              |  |     |  |  |->32  White\n",
      "   |              |  |     |  |  |\n",
      "   |              |  |     |  |->31 else if Total sulfur dioxide =< 72.5: go to 32, else go to 33\n",
      "   |              |  |     |     |\n",
      "   |              |  |     |     |  |->34  White\n",
      "   |              |  |     |     |  |\n",
      "   |              |  |     |     |->33 else if Residual sugar =< 0.9249999523162842: go to 34, else go to 35\n",
      "   |              |  |     |        |\n",
      "   |              |  |     |        |        |->38  White\n",
      "   |              |  |     |        |        |\n",
      "   |              |  |     |        |     |->37 then if Free sulfur dioxide =< 6.5: go to 38, else go to 39\n",
      "   |              |  |     |        |     |  |\n",
      "   |              |  |     |        |     |  |        |->42  White\n",
      "   |              |  |     |        |     |  |        |\n",
      "   |              |  |     |        |     |  |     |->41 then if pH =< 3.315000057220459: go to 42, else go to 43\n",
      "   |              |  |     |        |     |  |     |  |\n",
      "   |              |  |     |        |     |  |     |  |->43  White\n",
      "   |              |  |     |        |     |  |     |\n",
      "   |              |  |     |        |     |  |  |->40 then if Citric acid =< 0.23499999940395355: go to 41, else go to 44\n",
      "   |              |  |     |        |     |  |  |  |\n",
      "   |              |  |     |        |     |  |  |  |->44  White\n",
      "   |              |  |     |        |     |  |  |\n",
      "   |              |  |     |        |     |  |->39 else if Sulphates =< 0.7549999952316284: go to 40, else go to 45\n",
      "   |              |  |     |        |     |     |\n",
      "   |              |  |     |        |     |     |->45  White\n",
      "   |              |  |     |        |     |\n",
      "   |              |  |     |        |  |->36 then if Alcohol =< 13.575000762939453: go to 37, else go to 46\n",
      "   |              |  |     |        |  |  |\n",
      "   |              |  |     |        |  |  |->46  White\n",
      "   |              |  |     |        |  |\n",
      "   |              |  |     |        |->35 else if Sulphates =< 0.7849999666213989: go to 36, else go to 47\n",
      "   |              |  |     |           |\n",
      "   |              |  |     |           |->47  White\n",
      "   |              |  |     |\n",
      "   |              |  |  |->28 then if Total sulfur dioxide =< 275.0: go to 29, else go to 48\n",
      "   |              |  |  |  |\n",
      "   |              |  |  |  |->48  White\n",
      "   |              |  |  |\n",
      "   |              |  |->27 else if Sulphates =< 0.8050000071525574: go to 28, else go to 49\n",
      "   |              |     |\n",
      "   |              |     |->49  White\n",
      "   |              |\n",
      "   |           |->24 then if pH =< 3.8350000381469727: go to 25, else go to 50\n",
      "   |           |  |\n",
      "   |           |  |->50  Red\n",
      "   |           |\n",
      "   |        |->23 then if Chlorides =< 0.06549999862909317: go to 24, else go to 51\n",
      "   |        |  |\n",
      "   |        |  |->51  White\n",
      "   |        |\n",
      "   |     |->22 then if Sulphates =< 1.125: go to 23, else go to 52\n",
      "   |     |  |\n",
      "   |     |  |->52  Red\n",
      "   |     |\n",
      "   |  |->21 then if Volatile acidity =< 0.824999988079071: go to 22, else go to 53\n",
      "   |  |  |\n",
      "   |  |  |->53  Red\n",
      "   |  |\n",
      "   |->20 else if Chlorides =< 0.06949999928474426: go to 21, else go to 54\n",
      "      |\n",
      "      |     |->56  Red\n",
      "      |     |\n",
      "      |  |->55 then if Citric acid =< 0.06000000238418579: go to 56, else go to 57\n",
      "      |  |  |\n",
      "      |  |  |  |->58  Red\n",
      "      |  |  |  |\n",
      "      |  |  |->57 else if Chlorides =< 0.07050000131130219: go to 58, else go to 59\n",
      "      |  |     |\n",
      "      |  |     |     |->61  Red\n",
      "      |  |     |     |\n",
      "      |  |     |  |->60 then if Total sulfur dioxide =< 68.5: go to 61, else go to 62\n",
      "      |  |     |  |  |\n",
      "      |  |     |  |  |->62  White\n",
      "      |  |     |  |\n",
      "      |  |     |->59 else if Fixed acidity =< 9.949999809265137: go to 60, else go to 63\n",
      "      |  |        |\n",
      "      |  |        |->63  Red\n",
      "      |  |\n",
      "      |->54 else if Density =< 0.9952199459075928: go to 55, else go to 64\n",
      "         |\n",
      "         |        |->67  White\n",
      "         |        |\n",
      "         |     |->66 then if Volatile acidity =< 0.22499999403953552: go to 67, else go to 68\n",
      "         |     |  |\n",
      "         |     |  |->68  Red\n",
      "         |     |\n",
      "         |  |->65 then if Total sulfur dioxide =< 157.5: go to 66, else go to 69\n",
      "         |  |  |\n",
      "         |  |  |->69  White\n",
      "         |  |\n",
      "         |->64 else if Residual sugar =< 6.25: go to 65, else go to 70\n",
      "            |\n",
      "            |->70  White\n",
      "<---------------------------------------------------------------------------------------->\n",
      "Tree Depth:  18\n"
     ]
    }
   ],
   "source": [
    "##Now we can print our decision tree\n",
    "\n",
    "treeprint.tree_print(clf,attribute_names,class_names )"
   ]
  },
  {
   "cell_type": "markdown",
   "metadata": {},
   "source": [
    "#### 3.1.3\n",
    "\n",
    "(0.5 pts) Show that a wine with the following attribute values would be classified as white by the tree fitted in 3.1.2.\n",
    "\n",
    "| #             | Attribute     | Value  |\n",
    "| ------------- |:-------------| -----:|\n",
    "|1 | Fixed acidity (tartaric) | 6.9 g/dm$^3$ |\n",
    "|2 | Volatile acidity (acetic) | 1.09 g/dm$^3$ |\n",
    "|3 | Citric acid | 0.06 g/dm$^3$ |\n",
    "|4 | Residual sugar | 2.1 g/dm$^3$ |\n",
    "|5 | Chlorides | 0.0061 g/dm$^3$ |\n",
    "|6 | Free sulfur dioxide | 12 mg/dm$^3$ |\n",
    "|7 | Total sulfur dioxide | 31 mg/dm$^3$ |\n",
    "|8 | Density | 0.99 g/cm$^3$ |\n",
    "|9 | pH | 3.5 |\n",
    "|10 | Sulphates | 0.64 g/dm$^3$ |\n",
    "|11 | Alcohol | 12 % vol. | \n",
    "\n",
    "** hints: **\n",
    "*If you don't know how to classify input values with a tree, see the help documentation for the DecisionTreeClassifier function. *"
   ]
  },
  {
   "cell_type": "code",
   "execution_count": 10,
   "metadata": {},
   "outputs": [
    {
     "data": {
      "text/plain": [
       "array([1], dtype=uint8)"
      ]
     },
     "execution_count": 10,
     "metadata": {},
     "output_type": "execute_result"
    }
   ],
   "source": [
    "##To predict a wine with the decision tree we just made we just need to call the predict function giving the right parameters\n",
    " \n",
    "clf.predict([[6.9, 1.09, 0.06, 2.1,0.0061,12,31,0.99,3.5,0.64,12]])"
   ]
  },
  {
   "cell_type": "markdown",
   "metadata": {},
   "source": [
    "As expected the decision tree correctly prints the value 1 which stands for \"white\""
   ]
  },
  {
   "cell_type": "markdown",
   "metadata": {},
   "source": [
    "#### 3.1.4\n",
    "(1 pts) Classify all the wines in the wine data set. What percentage of the wine data is classified correctly by the tree?\n",
    "\n",
    "#### Answer theoretical questions:\n",
    "\n",
    "\n",
    "To check for accuracy we use the score function. Our decision tree has almost 99% of accuracy. It seems it works pretty well!\n"
   ]
  },
  {
   "cell_type": "code",
   "execution_count": 11,
   "metadata": {
    "collapsed": true
   },
   "outputs": [],
   "source": [
    "##we create a new array which contains the predictions \n",
    "\n",
    "predictions=clf.predict(wine_wines[0:6304])"
   ]
  },
  {
   "cell_type": "code",
   "execution_count": 12,
   "metadata": {},
   "outputs": [
    {
     "data": {
      "text/plain": [
       "0.98683375634517767"
      ]
     },
     "execution_count": 12,
     "metadata": {},
     "output_type": "execute_result"
    }
   ],
   "source": [
    "##I am not sure if I am allowed to use this function or you wanted me to code an accuracy function from scratch, but since it is\n",
    "##already here, why not simply use it\n",
    "\n",
    "clf.score(wine_wines, wine_class)"
   ]
  },
  {
   "cell_type": "markdown",
   "metadata": {},
   "source": [
    "## 3.2 Decision tree pruning using cross-validation\n",
    "\n",
    "In this exercise we will use cross-validation to prune a decision tree. When applying cross-validation the observed data is split into training and test sets, i.e., `X_train`, `y_train` and `X_test` and `y_test`. We train the model on the training data and evaluate the performance of the trained model on the test data.\n",
    "\n",
    "#### 3.2.1\n",
    "(2 pts) Load the wine data set `Data/wine.mat` using the `loadmat()` function. Divide the data into a training and a test data set. Fit a decision tree to the training data using the Gini (`gdi`) splitting criterion.\n",
    "\n",
    "Now, we want to find an optimally pruned decision tree, by modifying its maximum depth. For different values of parameter `depth` (from 2 to 20), first fit the decision tree, and then compute the classification error on the training and test set (this is called holdout cross-validation). Plot the training and test classification error as a function of the tree depth in the same figure. This will show us what the optimal pruning depth is for the training set, but also how well this generalizes to a test set. \n",
    "\n",
    "\n",
    "** hints: **  \n",
    "*Take a look at the module `sklearn.model_selection` and see how it can be used to partition the data into a training and a test set (holdout validation, `train_test_split()` function). Note that the package also contains functions to partition data for K-fold cross-validation. Some of the functions can ensure that both training and test sets have roughly the same class proportions.* \n",
    "\n",
    "What appears to be the optimal tree depth? Do you get the same result when you run your code again, generating a new random split between training and test data?\n",
    "\n",
    "#### Answer theoretical questions:\n",
    "\n",
    "\n",
    "\n",
    "The optimal tree depth appears to be around 3 or 4. From the 5th level on, the errors are very stable and ther isn't any significant improvement. Sometimes the score are worst with a max depth > 5. Error values are subject to change when we divide again the original datasetin test set and train set as the process shuffle randomly the dataset before dividing it.\n",
    "\n"
   ]
  },
  {
   "cell_type": "code",
   "execution_count": 13,
   "metadata": {
    "collapsed": true
   },
   "outputs": [],
   "source": [
    "from scipy.io import loadmat\n",
    "from sklearn import model_selection, tree\n",
    "from sklearn.model_selection import train_test_split\n",
    "\n",
    "\n",
    "wine_data = sp.io.loadmat(\"C:/Users/Luca/Desktop/wine.mat\")\n"
   ]
  },
  {
   "cell_type": "code",
   "execution_count": 14,
   "metadata": {
    "collapsed": true
   },
   "outputs": [],
   "source": [
    "##I extrapolate the array called \"X\" which contains the rows we are intersted\n",
    "\n",
    "wine_wines=wine_data['X']\n",
    "\n",
    "##I extrapolate the array called \"y\" which contains the class denomination (red or white)\n",
    "\n",
    "wine_class=wine_data['y']\n"
   ]
  },
  {
   "cell_type": "code",
   "execution_count": 15,
   "metadata": {
    "collapsed": true
   },
   "outputs": [],
   "source": [
    "##Now I can split the data in a training and a test set. For this exercises I will use a 80-20 percent ratio\n",
    "\n",
    "wine_train, wine_test, class_train, class_test = train_test_split(wine_wines, wine_class,test_size=0.2 )"
   ]
  },
  {
   "cell_type": "code",
   "execution_count": 16,
   "metadata": {},
   "outputs": [
    {
     "name": "stdout",
     "output_type": "stream",
     "text": [
      "[[  8.1     0.545   0.18  ...,   3.3     0.59    9.   ]\n",
      " [  6.8     0.91    0.06  ...,   3.53    0.64   10.9  ]\n",
      " [  5.4     0.3     0.3   ...,   3.31    0.4    13.6  ]\n",
      " ..., \n",
      " [  6.1     0.17    0.29  ...,   3.26    0.57   11.2  ]\n",
      " [  7.1     0.2     0.35  ...,   3.11    0.54   11.1  ]\n",
      " [  6.5     0.33    0.3   ...,   3.25    0.63   12.5  ]]\n"
     ]
    }
   ],
   "source": [
    "print(wine_test)"
   ]
  },
  {
   "cell_type": "code",
   "execution_count": 17,
   "metadata": {
    "collapsed": true
   },
   "outputs": [],
   "source": [
    "## Now I can fit the tree with the train set\n",
    "\n",
    "clf = tree.DecisionTreeClassifier(criterion=\"gini\",min_samples_split=100)\n",
    "clf = clf.fit(wine_train,class_train)"
   ]
  },
  {
   "cell_type": "code",
   "execution_count": 18,
   "metadata": {
    "collapsed": true
   },
   "outputs": [],
   "source": [
    "##We then build a loop to evaluate different maximum depth of the tree to identify the best model\n",
    "\n",
    "\n",
    "depth=[]\n",
    "errorsTrain=[]\n",
    "errorsTest=[]\n",
    "for i in range (2,21):\n",
    "    clf = tree.DecisionTreeClassifier(criterion=\"gini\",min_samples_split=100,max_depth=i)\n",
    "    clf = clf.fit(wine_train,class_train)\n",
    "    errorsTrain.append(clf.score(wine_train, class_train))\n",
    "    errorsTest.append(clf.score(wine_test, class_test))\n",
    "    depth.append(i)"
   ]
  },
  {
   "cell_type": "code",
   "execution_count": 19,
   "metadata": {},
   "outputs": [
    {
     "data": {
      "image/png": "[encoded data removed]",
      "text/plain": [
       "<matplotlib.figure.Figure at 0x1bc1e160b70>"
      ]
     },
     "metadata": {},
     "output_type": "display_data"
    }
   ],
   "source": [
    "#Finally we can plot the two arrays errorsTrain and errorsTest in respect to the max_depth\n",
    "\n",
    "import matplotlib.pyplot as plt\n",
    "plt.figure(1,figsize=(15,7.5))\n",
    "plt.ylabel('% right prediction')\n",
    "plt.plot(errorsTrain, label=\"train error\")\n",
    "plt.plot(errorsTest, label=\"test error\")\n",
    "plt.legend()\n",
    "plt.show()"
   ]
  },
  {
   "cell_type": "markdown",
   "metadata": {},
   "source": [
    "#### 3.2.2\n",
    "(1.5 pts) Repeat the exercise above, using 10-fold cross-validation. K-fold cross-validation works by splitting X into K partitions of equal length. Then in each fold, you choose K-1 partitions as the training set and the remaining partition as the test set. Every partition gets a turn being a test set. For a very nice simple explanation of how (and why) K-fold works, check out http://www.dummies.com/programming/big-data/data-science/resorting-cross-validation-machine-learning/\n",
    "\n",
    "\n",
    "For each fold, fit a decision tree on the training set and evaluate its performance on the test set. Finally, compute the average classification errors on the test- and training sets across the 10 cross-validation folds and plot them as a function of the tree depth.\n",
    "\n",
    "** hints: **\n",
    "*This time the `KFold()` function from the module `sklearn.model_selection` can be used to partition the data into the 10 training and test partitions. Check out http://scikit-learn.org/stable/modules/cross_validation.html#k-fold for an example of how to acces the indices for the training set and the test set in each fold. Those indices can then be used to create the training and test set, e.g. `X_train = X[train_indices]`*\n",
    " \n",
    "\n",
    "What appears to be the optimal tree depth? Do you get the same result when you run your code again, generating a new random split between training and test data? How about 100-fold cross-validation?\n",
    "\n",
    "#### Answer theoretical questions:\n",
    "\n",
    "As in the previous exercise, the optimal tree depth seems to be between 3 and 5. Beyond this depth we don't gain any significant % in accuracy. Of course when we run again we obtain slightly different values ,as the Kfold is initiated with shuffle=True and a random_state, but the general learning model remains the same , so there is no significant difference. In the case of 100-fold cross validation we will have 100 iteration, each with a different test set that corresponds to 1%. We can expect from this that the decision tree learns a little bit better, as it has more data in the training set. Therefore, a larger K, means a lower probability of underestimate the true error (simply because we have more samples to train our model on).  This may be somehow usefull if we have a very limited dataset to work on, but when we have 6000 rows as in our example dataset , it's only more computationally expensive and does add nothing significant to our model. "
   ]
  },
  {
   "cell_type": "code",
   "execution_count": 29,
   "metadata": {
    "collapsed": true
   },
   "outputs": [],
   "source": [
    "from sklearn.model_selection import KFold\n",
    "from sklearn.model_selection import RepeatedKFold\n",
    "\n",
    "kf=KFold(n_splits=10,shuffle=True, random_state=100)\n",
    "kf.get_n_splits(wine_wines)\n",
    "kf.get_n_splits(wine_class)\n",
    "\n",
    "##we want to store for each fold , the train set, the test set and the train classes and test classes\n",
    "## Therefore we buil 4 dictionaries\n",
    "dTest=dict.fromkeys([1, 2, 3, 4,5,6,7,8,9,10])\n",
    "dTrain=dict.fromkeys([1, 2, 3, 4,5,6,7,8,9,10])\n",
    "dTestClass=dict.fromkeys([1, 2, 3, 4,5,6,7,8,9,10])\n",
    "dTrainClass=dict.fromkeys([1, 2, 3, 4,5,6,7,8,9,10])\n",
    "\n",
    "i=0\n",
    "##we call our function \n",
    "for train_index, test_index in kf.split(wine_wines):\n",
    "    \n",
    "    X_train, X_test = wine_wines[train_index], wine_wines[test_index]\n",
    "   \n",
    "    y_train, y_test = wine_class[train_index], wine_class[test_index]\n",
    "   \n",
    "    i+=1\n",
    "    ##we save each iteration in our dictionaries\n",
    "    a=str(i)\n",
    "    dTest[a] = X_test\n",
    "    dTrain[a]= X_train\n",
    "    dTestClass[a] = y_test\n",
    "    dTrainClass[a] = y_train"
   ]
  },
  {
   "cell_type": "markdown",
   "metadata": {},
   "source": [
    "We can now check if our dictionaries have the right shapes. We expect the dTest to be 631x11, the dTrain to be 5673x11, the dTestClass to be 631x1, and the dTrainClass to be 5673x1. "
   ]
  },
  {
   "cell_type": "code",
   "execution_count": 30,
   "metadata": {},
   "outputs": [
    {
     "name": "stdout",
     "output_type": "stream",
     "text": [
      "dTest:  (631, 11)\n",
      "dTrain:  (5673, 11)\n",
      "dTestClass:  (631, 1)\n",
      "dTrainClass:  (5673, 1)\n"
     ]
    }
   ],
   "source": [
    "print (\"dTest: \", np.shape(dTest[\"1\"]))\n",
    "print (\"dTrain: \", np.shape(dTrain[\"1\"]))\n",
    "print (\"dTestClass: \", np.shape(dTestClass[\"1\"]))\n",
    "print (\"dTrainClass: \", np.shape(dTrainClass[\"1\"]))"
   ]
  },
  {
   "cell_type": "markdown",
   "metadata": {},
   "source": [
    "We are happy with our result, so now we can proceed with building a decision tree for every train set and test it with the test  set we have. "
   ]
  },
  {
   "cell_type": "code",
   "execution_count": 31,
   "metadata": {},
   "outputs": [
    {
     "name": "stdout",
     "output_type": "stream",
     "text": [
      "These are the scores for each different fold:  [0.98732171156893822, 0.99049128367670369, 0.98098256735340728, 0.97464342313787644, 0.97142857142857142, 0.98412698412698407, 0.98095238095238091, 0.97777777777777775, 0.97777777777777775]\n"
     ]
    }
   ],
   "source": [
    "#we build our tree\n",
    "clf = tree.DecisionTreeClassifier(criterion=\"gini\",min_samples_split=100)\n",
    "\n",
    "errorsTrain=[]\n",
    "errorsTest=[]\n",
    "\n",
    "#we train our tree, we test it, and than we append the error to a list we will use later\n",
    "##we do the same for every key in each dictionary\n",
    "\n",
    "\n",
    "\n",
    "for x in range (1,10):\n",
    "    \n",
    "    \n",
    "    clf = clf.fit(dTrain[str(x)],dTrainClass[str(x)])\n",
    "    errorsTrain.append(clf.score(dTest[str(x)], dTestClass[str(x)]))\n",
    "    errorsTest.append(clf.score(dTrain[str(x)], dTrainClass[str(x)]))\n",
    "   \n",
    "\n",
    "print (\"These are the scores for each different fold: \" , errorsTrain)"
   ]
  },
  {
   "cell_type": "markdown",
   "metadata": {},
   "source": [
    "Now we can compute the average classification errors on the test- and training sets across the 10 cross-validation folds. To do so we just calculate the means of the array with the stored errors we already have"
   ]
  },
  {
   "cell_type": "code",
   "execution_count": 32,
   "metadata": {},
   "outputs": [
    {
     "name": "stdout",
     "output_type": "stream",
     "text": [
      "This is the mean over all the TRAIN session on kFold=10 0.980611386422\n",
      "This is the mean over all the TEST session on kFold=10 0.98742715408\n"
     ]
    }
   ],
   "source": [
    "print (\"This is the mean over all the TRAIN session on kFold=10\", np.mean(errorsTrain))\n",
    "print (\"This is the mean over all the TEST session on kFold=10\", np.mean(errorsTest))"
   ]
  },
  {
   "cell_type": "markdown",
   "metadata": {},
   "source": [
    "Now we evaluate each fold at different tree depth, using the code we developed earlier"
   ]
  },
  {
   "cell_type": "code",
   "execution_count": 33,
   "metadata": {
    "collapsed": true
   },
   "outputs": [],
   "source": [
    "\n",
    "\n",
    "##we build 2 dictionaries to store the 19 values for each fold for TRain and Test errors\n",
    "errorsTests = {}\n",
    "errorsTrains={}\n",
    "\n",
    "for x in range(1,11):\n",
    "    errorsTrains[x]=[]\n",
    "    errorsTests[x]=[]\n",
    "    for i in range (2,21):\n",
    "        \n",
    "        clf = tree.DecisionTreeClassifier(criterion=\"gini\",min_samples_split=100,max_depth=i)\n",
    "        clf = clf.fit(dTrain[str(x)],dTrainClass[str(x)])\n",
    "        errorsTrains[x].append(clf.score(dTrain[str(x)], dTrainClass[str(x)]))\n",
    "        errorsTests[x].append(clf.score(dTest[str(x)], dTestClass[str(x)]))\n"
   ]
  },
  {
   "cell_type": "markdown",
   "metadata": {
    "collapsed": true
   },
   "source": [
    "Finally we can plot the errors in respect to the depth for each fold. For clarity we divide them between test errors and train errors "
   ]
  },
  {
   "cell_type": "code",
   "execution_count": 34,
   "metadata": {},
   "outputs": [
    {
     "data": {
      "image/png": "[encoded data removed]",
      "text/plain": [
       "<matplotlib.figure.Figure at 0x1bc206eb198>"
      ]
     },
     "metadata": {},
     "output_type": "display_data"
    }
   ],
   "source": [
    "\n",
    "\n",
    "plt.figure(1,figsize=(20,30))\n",
    "\n",
    "\n",
    "\n",
    "plt.subplot(4,1,1)\n",
    "plt.ylabel('% right prediction')\n",
    "\n",
    "for x in range(1,6):\n",
    "\n",
    "    plt.plot(errorsTrains[x], label=\"train error\"+(str(x)))\n",
    "  \n",
    "\n",
    "plt.legend()\n",
    "    \n",
    "   \n",
    "plt.subplot(4,1,2)\n",
    "plt.ylabel('% right prediction')\n",
    "\n",
    "for x in range(6,11):\n",
    "\n",
    "    plt.plot(errorsTrains[x], label=\"train error\"+(str(x)))\n",
    "   \n",
    "\n",
    "plt.legend()    \n",
    "\n",
    "plt.subplot(4,1,3)\n",
    "plt.ylabel('% right prediction')\n",
    "\n",
    "\n",
    "for x in range(1,6):\n",
    "\n",
    "    plt.plot(errorsTests[x], label=\"test error\"+(str(x)))\n",
    "\n",
    "plt.legend()    \n",
    "\n",
    "\n",
    "plt.subplot(4,1,4)\n",
    "plt.ylabel('% right prediction')\n",
    "\n",
    "for x in range(6,11):\n",
    "\n",
    "   plt.plot(errorsTests[x], label=\"test error\"+(str(x)))\n",
    "\n",
    "plt.legend()    \n",
    "\n",
    "\n",
    "    \n",
    "\n",
    "plt.show()"
   ]
  },
  {
   "cell_type": "markdown",
   "metadata": {},
   "source": [
    " ## 3.3 ROC curves, AUC scores, and the sign test\n",
    "\n",
    "In this exercise we will use ROC curves and the sign test to compare classifiers. Study the lecture slides and the paper 'ROC Graphs: Notes and Practical Considerations for Researchers' by Tom Fawcett included with the homework assignment (ROC101.pdf). It describes all you need to know (and much, much more..) about ROC curves. The method explained for computing the area under the curve is unnecessarily complicated. A simpler formula is:\n",
    "$$\n",
    "    \\mbox{AUC} = {1 \\over m n} \\sum_{i=1}^m \\sum_{j=1}^n \\mathbf{\\large 1}_{p_i > p_j} \\: .\n",
    "   $$\n",
    "Here $i$ runs over all $m$ data points with true label 1, and $j$ runs over all $n$ data points with true label $0$; $p_i$ and $p_j$ denote the probability score assigned by the classifier to data point $i$ and $j$, respectively. $\\mathbf{\\large 1}$ is the indicator function: it outputs $1$ if the condition (here $p_i > p_j$) is satisfied and $0$ otherwise. *Simply put: this formula computes how often the probability of a data point with true label 1 is higher than the probability of data points with true label 0. This is then divided by the total number of comparisons between probabilities.*\n",
    "    \n",
    "To make sure you understand how ROC works, you can make an ROC curve and calculate the AUC (on paper) with the following data:\n",
    "\n",
    "`\n",
    "labels = [0,0,0,1,0,1,1,0,1,1]\n",
    "classifier_probs = [0.1,0.2,0.3,0.4,0.5,0.6,0.7,0.8,0.9,0.99]\n",
    "`\n",
    "    \n",
    "\n",
    "\n",
    "#### 3.3.1\n",
    "  Load the file `Data/classprobs.xls`. The first column gives the true class label (either 0 or 1). The second and third column give the probabilistic scores for two different classifiers. The higher this probability, the more certain the classifier is that the example belongs to class 1 (instead of class 0).\n",
    "\n",
    "** hints: **\n",
    "*To get a column (in list form) from a file opened with xlrd, you can use the `col_values()` function on that file, e.g. `col0 = doc.col_values(0)`.*\n"
   ]
  },
  {
   "cell_type": "code",
   "execution_count": 414,
   "metadata": {
    "collapsed": true
   },
   "outputs": [],
   "source": [
    "import numpy as np\n",
    "import xlrd\n",
    "\n",
    "doc = xlrd.open_workbook('Data/classprobs.xls').sheet_by_index(0)\n"
   ]
  },
  {
   "cell_type": "code",
   "execution_count": 415,
   "metadata": {
    "collapsed": true
   },
   "outputs": [],
   "source": [
    "##we get the columns we are interested in\n",
    "values= doc.col_values(0)\n",
    "scores1 = doc.col_values(1)\n",
    "scores2 = doc.col_values(2)"
   ]
  },
  {
   "cell_type": "markdown",
   "metadata": {},
   "source": [
    "#### 3.3.2 \n",
    "(1 pts) Calculate the ROC curves for the classifiers and plot them. Also plot a dashed line on the diagonal to represent random guessing in the same figure. Interpret the obtained results. Do both classifiers perform better than random guessing?\n",
    "\n",
    "** hints: **  \n",
    "*The function `sklearn.metrics.roc_curve` can be used for computing the ROC. *\n",
    " "
   ]
  },
  {
   "cell_type": "code",
   "execution_count": 416,
   "metadata": {},
   "outputs": [],
   "source": [
    "from sklearn.metrics import roc_curve\n",
    "\n",
    "##we copmute the first ROC\n",
    "fpr1, tpr1, thresholds1 = metrics.roc_curve(values, scores1)\n",
    "\n",
    "##we compute the second ROC\n",
    "fpr2, tpr2, thresholds2 = metrics.roc_curve(values, scores2)\n",
    "\n"
   ]
  },
  {
   "cell_type": "markdown",
   "metadata": {},
   "source": [
    "Now we can plot the first and second ROC"
   ]
  },
  {
   "cell_type": "code",
   "execution_count": 417,
   "metadata": {},
   "outputs": [
    {
     "data": {
      "image/png": "[encoded data removed]",
      "text/plain": [
       "<matplotlib.figure.Figure at 0x1bc2112c470>"
      ]
     },
     "metadata": {},
     "output_type": "display_data"
    }
   ],
   "source": [
    "plt.figure(1, figsize=(18,7))\n",
    "\n",
    "plt.subplot(1,2,1)\n",
    "plt.plot(fpr1,tpr1, label=\"ROC curve1\")\n",
    "plt.plot([0, 1], [0, 1], label=\"Chance level\")\n",
    "plt.legend()\n",
    "\n",
    "plt.subplot(1,2,2)\n",
    "plt.plot(fpr2, tpr2, label=\"ROC curve2\")\n",
    "plt.plot([0, 1], [0, 1], label=\"Chance level\")\n",
    "\n",
    "plt.legend()\n",
    "plt.show()"
   ]
  },
  {
   "cell_type": "markdown",
   "metadata": {},
   "source": [
    "As we can see from the plots both the classifiers perform better than the chance level.It's already visible that the first classifier performs better, as the AUC seems bigger."
   ]
  },
  {
   "cell_type": "markdown",
   "metadata": {},
   "source": [
    "#### 3.3.3\n",
    "(1 pts) Compute the AUC scores (area under the curve) of both classifiers using the formula given above. Do the AUC scores indicate that the classifiers are performing better than this baseline?\n",
    "\n",
    "\n",
    "\n",
    "\n",
    " "
   ]
  },
  {
   "cell_type": "markdown",
   "metadata": {
    "collapsed": true
   },
   "source": [
    "We compute the AUC score for both classifiers.First of all we build 2 dictionaries to assign to each value (0 or 1) its correspondent probability for both models."
   ]
  },
  {
   "cell_type": "code",
   "execution_count": 472,
   "metadata": {
    "collapsed": true
   },
   "outputs": [],
   "source": [
    "probs1=dict(zip(scores1,values))\n",
    "probs2=dict(zip(scores2,values))"
   ]
  },
  {
   "cell_type": "markdown",
   "metadata": {},
   "source": [
    "we divide each dictionary in ones and zeroes"
   ]
  },
  {
   "cell_type": "code",
   "execution_count": 473,
   "metadata": {},
   "outputs": [],
   "source": [
    "Probs1zero={}\n",
    "Probs1ones={}\n",
    "Probs2zero={}\n",
    "Probs2ones={}\n",
    "\n",
    "##1st dictionary zeroes\n",
    "for key , value in probs1.items():\n",
    "    if value ==0:\n",
    "        Probs1zero.update({key:value})\n",
    "\n",
    "##1st dictionary ones\n",
    "for key , value in probs1.items():\n",
    "    if value == 1:\n",
    "        Probs1ones.update({key:value})\n",
    "        \n",
    "##2nd dictionary zeroes\n",
    "for key , value in probs2.items():\n",
    "    if value == 0:\n",
    "        Probs2zero.update({key:value})\n",
    "        \n",
    "##2nd dictionary ones\n",
    "for key , value in probs2.items():\n",
    "    if value == 1:\n",
    "        Probs2ones.update({key:value})\n",
    "        \n",
    "\n"
   ]
  },
  {
   "cell_type": "markdown",
   "metadata": {},
   "source": [
    "We compute the m  and n  for both models "
   ]
  },
  {
   "cell_type": "code",
   "execution_count": 474,
   "metadata": {},
   "outputs": [],
   "source": [
    "zeroes=0\n",
    "ones=0\n",
    "for i in values:\n",
    "    if i==0:\n",
    "        zeroes+=1\n",
    "    else:\n",
    "        ones+=1\n"
   ]
  },
  {
   "cell_type": "markdown",
   "metadata": {},
   "source": [
    "Now we compute the 2 sigmas of the formula for both models"
   ]
  },
  {
   "cell_type": "code",
   "execution_count": 475,
   "metadata": {},
   "outputs": [],
   "source": [
    "sigma1=0\n",
    "sigma2=0\n",
    "\n",
    "##1st model\n",
    "for key in Probs1ones.keys():\n",
    "    for key2 in Probs1zero.keys():\n",
    "        if key>key2:\n",
    "            sigma1+=1\n",
    "            \n",
    "##2nd model\n",
    "for key  in Probs2ones.keys():\n",
    "    for key2,value2 in Probs2zero.items():\n",
    "        if key>key2:\n",
    "            sigma2+=1"
   ]
  },
  {
   "cell_type": "markdown",
   "metadata": {},
   "source": [
    "Now that we have all the variables we need we can use the formula to cumpute the AUC"
   ]
  },
  {
   "cell_type": "code",
   "execution_count": 476,
   "metadata": {},
   "outputs": [
    {
     "name": "stdout",
     "output_type": "stream",
     "text": [
      "This is the AUC for the first model 0.9564471879286695\n",
      "This is the AUC for the second model 0.7654320987654321\n"
     ]
    }
   ],
   "source": [
    "AUC1=sigma1/(zeroes*ones)\n",
    "AUC2=sigma2/(zeroes*ones)\n",
    "\n",
    "print (\"This is the AUC for the first model\", AUC1)\n",
    "print (\"This is the AUC for the second model\", AUC2)"
   ]
  },
  {
   "cell_type": "markdown",
   "metadata": {},
   "source": [
    "We double check with the sklearn AUC function"
   ]
  },
  {
   "cell_type": "code",
   "execution_count": 477,
   "metadata": {},
   "outputs": [
    {
     "name": "stdout",
     "output_type": "stream",
     "text": [
      "0.956447187929\n",
      "0.765432098765\n"
     ]
    }
   ],
   "source": [
    "from sklearn import metrics\n",
    "\n",
    "print (metrics.auc(fpr1, tpr1))\n",
    "print (metrics.auc(fpr2, tpr2))\n"
   ]
  },
  {
   "cell_type": "markdown",
   "metadata": {},
   "source": [
    "As we see the AUC are the same. Our formula is right!"
   ]
  },
  {
   "cell_type": "markdown",
   "metadata": {},
   "source": [
    "\n",
    "#### 3.3.4 \n",
    "(0.5 pts) Using a threshold of 0.5, translate the probability scores to predicted class labels, and compute the accuracy for each of the classifiers."
   ]
  },
  {
   "cell_type": "code",
   "execution_count": 501,
   "metadata": {
    "collapsed": true
   },
   "outputs": [],
   "source": [
    "##we make a copy of the original dictionaries\n",
    "predict1=dict(probs1)\n",
    "predict2=dict(probs2)"
   ]
  },
  {
   "cell_type": "code",
   "execution_count": 502,
   "metadata": {},
   "outputs": [],
   "source": [
    "##we build variable to count\n",
    "replacedzero1=0\n",
    "replacedone1=0\n",
    "replacedzero2=0\n",
    "replacedone2=0\n",
    "\n",
    "##We replace the true values with the predicted values and we count how many values are replaced\n",
    "\n",
    "##model1\n",
    "\n",
    "for key,value in predict1.items():\n",
    "    if key>=0.5 and value == 0.0:\n",
    "        \n",
    "        ##we update values in the dictionary\n",
    "        predict1.update({key:1.0})\n",
    "        \n",
    "        ##Numbers of false negative model 1\n",
    "        replacedzero1+=1\n",
    "        \n",
    "        \n",
    "    elif key<0.5 and value == 1.0:\n",
    "        \n",
    "        ##we update values in the dictionary\n",
    "        predict1.update({key:0.0})\n",
    "        \n",
    "        ##Numbers of false positive model 1\n",
    "        replacedone1+=1 \n",
    "       \n",
    "       \n",
    "##model2\n",
    "\n",
    "\n",
    "for key,value in predict2.items():\n",
    "    if key>=0.5 and value == 0.0:\n",
    "        \n",
    "        ##we update values in the dictionary\n",
    "        predict2.update({key:1.0})\n",
    "        \n",
    "        ##Numbers of false negative model 2\n",
    "        replacedzero2+=1\n",
    "       \n",
    "        \n",
    "        \n",
    "    elif key<0.5 and value == 1.0:\n",
    "        \n",
    "        ##we update values in the dictionary\n",
    "        predict2.update({key:0.0})\n",
    "        \n",
    "        ##Numbers of false positive model 2\n",
    "        replacedone2+=1\n",
    "        "
   ]
  },
  {
   "cell_type": "markdown",
   "metadata": {},
   "source": [
    "We check if everything went well"
   ]
  },
  {
   "cell_type": "code",
   "execution_count": 505,
   "metadata": {
    "collapsed": true
   },
   "outputs": [],
   "source": [
    "##we check if our code worked as expected\n",
    "for key,value in predict1.items():\n",
    "    if key>=0.5 and value == 0.0:\n",
    "        print (key,value)\n",
    "        \n",
    "for key,value in predict1.items():\n",
    "    if key<0.5 and value == 1.0:\n",
    "        print (key,value)\n",
    "\n",
    "for key,value in predict2.items():\n",
    "    if key>=0.5 and value == 0.0:\n",
    "        print (key,value)\n",
    "        \n",
    "for key,value in predict2.items():\n",
    "    if key<0.5 and value == 1.0:\n",
    "        print (key,value)"
   ]
  },
  {
   "cell_type": "markdown",
   "metadata": {},
   "source": [
    "As expected nothing is printed. Now we can compute accuracy as the fraction of true positive and negative over all values for both models"
   ]
  },
  {
   "cell_type": "markdown",
   "metadata": {},
   "source": [
    "We sum the false positives and negatives"
   ]
  },
  {
   "cell_type": "code",
   "execution_count": 503,
   "metadata": {
    "collapsed": true
   },
   "outputs": [],
   "source": [
    "replaced1=  replacedzero1 +replacedone1\n",
    "replaced2=  replacedzero2 +replacedone2"
   ]
  },
  {
   "cell_type": "markdown",
   "metadata": {},
   "source": [
    "Finally we compute the accuracy"
   ]
  },
  {
   "cell_type": "code",
   "execution_count": 508,
   "metadata": {},
   "outputs": [
    {
     "name": "stdout",
     "output_type": "stream",
     "text": [
      "Accuracy first model 0.8611111111111112\n",
      "Accuracy second model 0.6944444444444444\n"
     ]
    }
   ],
   "source": [
    "accuracy1= (len(values)-replaced1)/len(values)\n",
    "accuracy2= (len(values)-replaced2)/len(values)\n",
    "\n",
    "print (\"Accuracy first model\", accuracy1)\n",
    "print (\"Accuracy second model\", accuracy2)"
   ]
  },
  {
   "cell_type": "markdown",
   "metadata": {},
   "source": [
    "#### 3.3.5\n",
    "(0.5 pts) Create the 2x2 table of wrong and correct classifications by the first and the second classifier, like in the lecture slides (lecture on model evaluation, part on the sign test). Perform a sign test to test whether the performance of the two classifiers is significantly different at a significance level of 0.05. **If you are not familiar with sign testing, you can read the example provided below.**\n",
    "\n",
    "\n",
    "** hints: **  \n",
    "*As explained in the lecture slides, the sign test is a binomial test on the lower-left ($N_{1<2}$) and upper-right ($N_{1>2}$) elements of the cross table. Unlike in the lecture slides, here you need to perform a two-sided test: $$\\textrm{p-value} = P(W \\leq \\min(N_{1<2},N_{1>2}) \\textrm{ or } W \\geq  \\max(N_{1<2},N_{1>2})$$\n",
    "The function `scipy.stats.binom.cdf` can be used to compute the cumulative density of the binomial distribution.\n",
    "For more information on the sign test, see the included paper by Salzberg (signtest.pdf, in particular section 3.1).*"
   ]
  },
  {
   "cell_type": "code",
   "execution_count": 364,
   "metadata": {},
   "outputs": [
    {
     "data": {
      "text/plain": [
       "0.95644718792866945"
      ]
     },
     "execution_count": 364,
     "metadata": {},
     "output_type": "execute_result"
    }
   ],
   "source": [
    "from sklearn import metrics\n",
    "\n",
    "metrics.auc(fpr1,tpr1)"
   ]
  },
  {
   "cell_type": "code",
   "execution_count": null,
   "metadata": {
    "collapsed": true
   },
   "outputs": [],
   "source": []
  },
  {
   "cell_type": "markdown",
   "metadata": {},
   "source": [
    "## Example two-sided sign test\n",
    "\n",
    "Imagine you have a lucky coin, that you are certain does not result in heads 50% of the times you flip it. However, you friend (lets call him *zero-hypothesis*) claims that your coin is just like his random coin. To verify whether this is true, you decide to compare the performance (you are a scientist after all) of your lucky coin resulting in heads to the performance of the random coin resulting in heads with a sign test. How do you do this?\n",
    "\n",
    "First, you collect data. Assume you both used your coin during 23 bets. During those 23 bets, you both flip your respective coins. It was determined that if one of you flipped head while the other didn't, that person won the bet, and the other person lost. If you both got the same outcome, neither of you won. 1 stands for head, and 0 for tails. These were your results:"
   ]
  },
  {
   "cell_type": "code",
   "execution_count": 1,
   "metadata": {
    "collapsed": true
   },
   "outputs": [],
   "source": [
    "import numpy as np\n",
    "from scipy.stats import binom\n",
    "import matplotlib.pyplot as plt\n",
    "\n",
    "#results\n",
    "lucky_coin = np.array([1,1,1,0,1,1,1,1,1,0,1,1,1,1,0,1,1,0,1,1,1,0,1])\n",
    "random_coin= np.array([0,1,0,1,0,1,0,0,0,1,0,1,0,1,1,1,1,0,0,0,0,0,0])\n"
   ]
  },
  {
   "cell_type": "markdown",
   "metadata": {},
   "source": [
    "Now you calculate how often in any pair of outcomes one coin *won*, i.e. one coin flipped to head while the other flipped to tails."
   ]
  },
  {
   "cell_type": "code",
   "execution_count": 2,
   "metadata": {},
   "outputs": [
    {
     "name": "stdout",
     "output_type": "stream",
     "text": [
      "The lucky coin won 12 times, while the random won 3 times.\n"
     ]
    }
   ],
   "source": [
    "N_l = sum((lucky_coin == 1) & (random_coin == 0)) #how often your lucky coin won\n",
    "N_r = sum((lucky_coin == 0) & (random_coin == 1)) #how often the random coin won\n",
    "N = N_l + N_r #how often one coin was a winner\n",
    "print('The lucky coin won {} times, while the random won {} times.'.format(N_l,N_r))"
   ]
  },
  {
   "cell_type": "markdown",
   "metadata": {},
   "source": [
    "You observed 15 times that one coin won. If both coins resulted in heads 50% of the time, like *zero-hypothesis* stated, you'd expect that both coins have 50% chance of being the winner. So the probability distributions for both N_l and N_r should look something like this:"
   ]
  },
  {
   "cell_type": "code",
   "execution_count": 3,
   "metadata": {},
   "outputs": [
    {
     "data": {
      "image/png": "[encoded data removed]",
      "text/plain": [
       "<matplotlib.figure.Figure at 0x48619e8>"
      ]
     },
     "metadata": {},
     "output_type": "display_data"
    }
   ],
   "source": [
    "b = binom(N,0.5) #N=observations of inequality, p=prob of one coin being better\n",
    "plt.plot(b.pmf(range(N+1)), '--o',label = 'Probability density')\n",
    "plt.plot(b.cdf(range(N+1)), '--o',label = 'Cumulative distribution')\n",
    "plt.legend()\n",
    "plt.xlabel('Number of times one coin is better than the other')\n",
    "plt.ylabel('Probability')\n",
    "plt.title('Distribution according to H0')\n",
    "plt.show()"
   ]
  },
  {
   "cell_type": "markdown",
   "metadata": {},
   "source": [
    "(Of course this is a discrete probability function, so you're not interested in values between integers.)\n",
    "\n",
    "As you can see, according to *zero-hypothesis*, 7 and 8 are the most likely values for both N_l and N_r. But this is not what you observed in your data. To conclude that *H0* is false, you need to show that your outcome is unlikely under the assumption that *H0* is true: the values you observed are so extreme that these values or more extreme values occur less than 5% of the time (*p-value < 0.05*). So how unlikely is it that one coin is better 12 times or more, and the other is better 3 times or less?\n",
    "\n",
    "It's the sum of the values of the probability density function (pdf or pmf in the python doc) at  0,1,2 and 3, plus the sum of the values of the pdf at 12,13,14 and 15. \n",
    "\n",
    "This is equal to the value of the cumulative distribution function (cdf) at 3, plus 1 minus the value of cdf at 11 (since `1-cdf(11)` represents the probability of observing 12 or bigger)."
   ]
  },
  {
   "cell_type": "code",
   "execution_count": 4,
   "metadata": {},
   "outputs": [
    {
     "name": "stdout",
     "output_type": "stream",
     "text": [
      "The p-value is 0.035\n"
     ]
    }
   ],
   "source": [
    "p_value = b.cdf(min(N_r,N_l)) + (1-b.cdf(max(N_r,N_l)-1))\n",
    "print('The p-value is {:.3f}'.format(p_value))"
   ]
  },
  {
   "cell_type": "markdown",
   "metadata": {},
   "source": [
    "So your observations are unlikely if *zero-hypothesis* is right. By statistical theory, you can now say that you have significant reason to reject their opinion. Now the hardest part of statistics: convincing your non-scientist friends."
   ]
  }
 ],
 "metadata": {
  "anaconda-cloud": {},
  "kernelspec": {
   "display_name": "Python 3",
   "language": "python",
   "name": "python3"
  },
  "language_info": {
   "codemirror_mode": {
    "name": "ipython",
    "version": 3
   },
   "file_extension": ".py",
   "mimetype": "text/x-python",
   "name": "python",
   "nbconvert_exporter": "python",
   "pygments_lexer": "ipython3",
   "version": "3.6.1"
  }
 },
 "nbformat": 4,
 "nbformat_minor": 1
}
