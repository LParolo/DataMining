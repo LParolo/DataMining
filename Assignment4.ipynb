{
 "cells": [
  {
   "cell_type": "markdown",
   "metadata": {},
   "source": [
    "# Assignment 5: Association mining\n",
    "\n",
    "## Objective of this assignment\n",
    "The overall objective is to understand how frequent itemsets can be extracted by\n",
    "the Apriori algorithm and be able to calculate and interpret association rules in terms of support and confidence.\n",
    "\n",
    "## ** Important: ** When handing in your homework:\n",
    "+ Hand in the notebook (and nothing else) named as follows: StudentName1_snumber_StudentName2_snumber.ipynb\n",
    "+ Provide clear and complete answers to the questions below under a separate header (not hidden somewhere in your source code), and make sure to explain your answers / motivate your choices. Add Markdown cells where necessary.\n",
    "+ Source code, output graphs, derivations, etc., should be included in the notebook.\n",
    "+ Hand-in: upload to Blackboard.\n",
    "+ Include name, student number, assignment (especially in filenames)!\n",
    "+ When working in pairs only one of you should upload the assignment, and report the name of your partner in your filename.\n",
    "+ For problems or questions: use the BB discussion board or email the student assistants.\n",
    "\n",
    "\n",
    "## Advised Reading and Exercise Material\n",
    "**The following reading material is recommended:**\n",
    "\n",
    "- Pang-Ning Tan, Michael Steinbach, and Vipin Kumar, *Introduction to Data Mining*, section 6.\n",
    "\n",
    "\n",
    "## Additional Tools\n",
    "For this exercise you will need to load the provided *apriorimining.py* script. \n",
    "\n",
    "\n",
    "##  5.1 Association mining for course data \n",
    "We will use the Apriori algorithm to automatically mine for associations. The Apriori algorithm is an adapted version of the script found here: https://github.com/nalinaksh/Association-Rule-Mining-Python\n",
    "\n",
    "Check out the script and doc and check if you understand how the association rules are computed. \n",
    "\n"
   ]
  },
  {
   "cell_type": "code",
   "execution_count": 2,
   "metadata": {
    "collapsed": true
   },
   "outputs": [],
   "source": [
    "import Toolbox.apriorimining as apr"
   ]
  },
  {
   "cell_type": "markdown",
   "metadata": {},
   "source": [
    "\n",
    "#### 5.1.1\n",
    "\n",
    "(0 points) Look at the data file `Data/courses.txt` into Python. The data is represented in Table 1. Inspect the file Data/courses.txt and make sure you understand how the data in Table 1 is stored in the text file.\n",
    "\n",
    "##### Table 1\n",
    "|#  |   History |Math| Biology| Spanish | Economics| Physics | Chemistry | English  |  \n",
    "| :-------------: |:-------------:| :-----------:| :----------:| :------------:|:-------------:| :------------:|  :-------------: | :-------------: |\n",
    "|student 1 | 0| 1 | 0 | 0 | 1| 1 |1 |1   \n",
    "|student 2 | 1| 1 | 1 | 0 | 0| 1 |1 |1   \n",
    "|student 3 | 0| 1 | 0 | 1 | 0| 1 |0 |1   \n",
    "|student 4 | 0| 0 | 1 | 0 | 0| 1 |1 |0   \n",
    "|student 5 | 0| 1 | 0 | 0 | 0| 1 |1 |0        \n",
    "|student 6 | 0| 1 | 1 | 0 | 0| 1 |1 |1   \n"
   ]
  },
  {
   "cell_type": "markdown",
   "metadata": {},
   "source": [
    "#### 5.1.2\n",
    "(1 point) We will analyze the data in Table 1 automatically using the function `associationmining.generate_association_rules()` from the script. Analyze the data with $ minsupport  \\geq 80 \\% $ and $ minconfidence \\geq 100 \\%$.What\n",
    "are the generated association rules? What kind of conclusions can you make based on these association rules about the subjects that students took?  \n",
    "  \n"
   ]
  },
  {
   "cell_type": "code",
   "execution_count": 9,
   "metadata": {
    "scrolled": true
   },
   "outputs": [
    {
     "name": "stdout",
     "output_type": "stream",
     "text": [
      "Please enter support value in %: 80\n",
      "Please enter confidence value in %: 100\n",
      "Enter the max number of rules you want to see (enter 0 to see all rules): 0\n",
      "Please enter filepath\\filename and extension: C:\\Users\\Luca\\Desktop\\RadboudUniversity\\DataMining\\Assignment_5\\Assignment_5\\Data\\courses.txt\n",
      "---------------TOP 10 FREQUENT 1-ITEMSET-------------------------\n",
      "set= { 6 },  sup= 100.0\n",
      "set= { 2 },  sup= 83.33\n",
      "set= { 7 },  sup= 83.33\n",
      "-----------------------------------------------------------------\n",
      "-------TOP 10 (or less) FREQUENT 2-ITEMSET------------------------\n",
      "set= { 2, 6 },  sup= 83.0\n",
      "set= { 6, 7 },  sup= 83.0\n",
      "------------------------------------------------------------------\n",
      "---------------------ASSOCIATION RULES------------------\n",
      "--------------------------------------------------------\n",
      "Rule #1: {  } ==> { 6 }, sup= 100.00, conf= 100.00\n",
      "\n",
      "Rule #2: { 2 } ==> { 6 }, sup= 83.33, conf= 100.00\n",
      "\n",
      "Rule #3: { 7 } ==> { 6 }, sup= 83.33, conf= 100.00\n",
      "--------------------------------------------------------\n"
     ]
    }
   ],
   "source": [
    "apr.generate_association_rules()"
   ]
  },
  {
   "cell_type": "markdown",
   "metadata": {},
   "source": [
    "The generated rules with minsuppport≥80% and minconfidence≥100% are:\n",
    "1- An empty set therefor physics. This actually just tell us that all the students have taken the course in physic as the support is 100%.The confidence also here is 100%, which is again obvious given that we are making an association rule between an empty set and a 1-itemset which occurs in all the cases.\n",
    "2- Given math therefore phyisics with a support of 83,33% and a confidence of 100%. The confidence is 100% as the support count for {Math,Physics} is 5 and the support count for {Math} is 5 again (and 5/5=1). The support is 83,33% as the support count of {Math} is 5 while the total number of cases is 6.\n",
    "3- Given Chemistry then Physics with support of 83,33% and confidence of 100%. he explanation of whi we have these percentages is the same as for association rule nuber 2\n",
    "\n",
    "Conclusions: we can say that , there is a strong association between Physics and itslef, which is self evident. We can also say that there is a strong association between the choice of attending the course in Math and Phisycs and Chemistry and Phyics. This may look a good description of the cases we are studying. In fact we may suppose that the we are dealing with students of hard science subjects. We may also suppose that , although the students may belong to different specialization that they are required to attend a course in Physics as it is useful in many different areas of science (even though I would have expected that math would be required as prerequisited for Physics and Chemistry). \n",
    "\n",
    "\n",
    "\n"
   ]
  },
  {
   "cell_type": "markdown",
   "metadata": {},
   "source": [
    "  ##  5.2 Association mining for MovieLens data \n",
    "  \n",
    "  \n",
    "  In this part of the exercise we consider a Market Basket data set containing 943 users purchases of 1682 movies. A total of 100,000 movies\n",
    "have been purchased.The data set is called MovieLens100K and is provided by http://www.grouplens.org/node/73, see also the readme `MovieLensData.txt` in the data folder. The data currently considered is not the original data but modified for the apriori algorithm.\n",
    "\n",
    "#### 5.2.1\n",
    "  (0 points) The MovieLens data is stored in the file MovieLensData.txt. Inspect the file to see how the data is stored.\n",
    "\n",
    "\n",
    "#### 5.2.2 \n",
    "  (1 point) Find association rules using the function below with $ minsupport  \\geq 30 \\% $ and $ minconfidence \\geq 80 \\%$. What are the associations with strongest confidence? Do these associations make sense? You can use file Data/u.item to print the movie titles in stead of numbers. If you enter filename `MovieLensData.txt`, the script will provide an additional option for this. \n",
    "  "
   ]
  },
  {
   "cell_type": "code",
   "execution_count": 4,
   "metadata": {},
   "outputs": [
    {
     "name": "stdout",
     "output_type": "stream",
     "text": [
      "Please enter support value in %: 30\n",
      "Please enter confidence value in %: 80\n",
      "Enter the max number of rules you want to see (enter 0 to see all rules): 0\n",
      "Please enter filepath\\filename and extension: C:\\Users\\Luca\\Desktop\\RadboudUniversity\\DataMining\\Assignment_5\\Assignment_5\\Data\\MovieLensData.txt\n",
      "Do you want to print sets and rules with Movie names in stead of numbers? [y/n]: y\n",
      "---------------TOP 10 FREQUENT 1-ITEMSET-------------------------\n",
      "set= { Star Wars (1977) },  sup= 61.82\n",
      "set= { Contact (1997) },  sup= 53.98\n",
      "set= { Fargo (1996) },  sup= 53.87\n",
      "set= { Return of the Jedi (1983) },  sup= 53.76\n",
      "set= { Liar Liar (1997) },  sup= 51.43\n",
      "set= { English Patient, The (1996) },  sup= 51.01\n",
      "set= { Scream (1996) },  sup= 50.69\n",
      "set= { Toy Story (1995) },  sup= 47.93\n",
      "set= { Air Force One (1997) },  sup= 45.71\n",
      "set= { Independence Day (ID4) (1996) },  sup= 45.49\n",
      "-----------------------------------------------------------------\n",
      "-------TOP 10 (or less) FREQUENT 2-ITEMSET------------------------\n",
      "set= { Return of the Jedi (1983), Star Wars (1977) },  sup= 50.0\n",
      "set= { Fargo (1996), Star Wars (1977) },  sup= 41.0\n",
      "set= { Star Wars (1977), Toy Story (1995) },  sup= 40.0\n",
      "set= { Raiders of the Lost Ark (1981), Star Wars (1977) },  sup= 40.0\n",
      "set= { Independence Day (ID4) (1996), Star Wars (1977) },  sup= 38.0\n",
      "set= { Godfather, The (1972), Star Wars (1977) },  sup= 37.0\n",
      "set= { Empire Strikes Back, The (1980), Star Wars (1977) },  sup= 36.0\n",
      "set= { Return of the Jedi (1983), Toy Story (1995) },  sup= 36.0\n",
      "set= { Fargo (1996), Return of the Jedi (1983) },  sup= 36.0\n",
      "set= { Raiders of the Lost Ark (1981), Return of the Jedi (1983) },  sup= 36.0\n",
      "------------------------------------------------------------------\n",
      "-------TOP 10 (or less) FREQUENT 3-ITEMSET------------------------\n",
      "set= { Return of the Jedi (1983), Star Wars (1977), Toy Story (1995) },  sup= 35.0\n",
      "set= { Raiders of the Lost Ark (1981), Return of the Jedi (1983), Star Wars (1977) },  sup= 35.0\n",
      "set= { Independence Day (ID4) (1996), Return of the Jedi (1983), Star Wars (1977) },  sup= 34.0\n",
      "set= { Fargo (1996), Return of the Jedi (1983), Star Wars (1977) },  sup= 34.0\n",
      "set= { Empire Strikes Back, The (1980), Return of the Jedi (1983), Star Wars (1977) },  sup= 33.0\n",
      "set= { Empire Strikes Back, The (1980), Raiders of the Lost Ark (1981), Star Wars (1977) },  sup= 33.0\n",
      "set= { Empire Strikes Back, The (1980), Raiders of the Lost Ark (1981), Return of the Jedi (1983) },  sup= 31.0\n",
      "set= { Godfather, The (1972), Return of the Jedi (1983), Star Wars (1977) },  sup= 31.0\n",
      "set= { Return of the Jedi (1983), Silence of the Lambs, The (1991), Star Wars (1977) },  sup= 30.0\n",
      "set= { Return of the Jedi (1983), Star Wars (1977), Twelve Monkeys (1995) },  sup= 30.0\n",
      "------------------------------------------------------------------\n",
      "-------TOP 10 (or less) FREQUENT 4-ITEMSET------------------------\n",
      "set= { Empire Strikes Back, The (1980), Raiders of the Lost Ark (1981), Return of the Jedi (1983), Star Wars (1977) },  sup= 31.0\n",
      "------------------------------------------------------------------\n",
      "---------------------ASSOCIATION RULES------------------\n",
      "--------------------------------------------------------\n",
      "Rule #73: { Empire Strikes Back, The (1980), Raiders of the Lost Ark (1981), Return of the Jedi (1983) } ==> { Star Wars (1977) }, sup= 31.18, conf= 99.66\n",
      "\n",
      "Rule #34: { Empire Strikes Back, The (1980), Return of the Jedi (1983) } ==> { Star Wars (1977) }, sup= 33.40, conf= 99.37\n",
      "\n",
      "Rule #54: { Pulp Fiction (1994), Return of the Jedi (1983) } ==> { Star Wars (1977) }, sup= 30.22, conf= 98.62\n",
      "\n",
      "Rule #63: { Raiders of the Lost Ark (1981), Return of the Jedi (1983) } ==> { Star Wars (1977) }, sup= 35.74, conf= 98.54\n",
      "\n",
      "Rule #48: { Return of the Jedi (1983), Toy Story (1995) } ==> { Star Wars (1977) }, sup= 35.31, conf= 97.94\n",
      "\n",
      "Rule #44: { Return of the Jedi (1983), Silence of the Lambs, The (1991) } ==> { Star Wars (1977) }, sup= 30.65, conf= 97.64\n",
      "\n",
      "Rule #45: { Return of the Jedi (1983), Twelve Monkeys (1995) } ==> { Star Wars (1977) }, sup= 30.54, conf= 97.63\n",
      "\n",
      "Rule #58: { Godfather, The (1972), Return of the Jedi (1983) } ==> { Star Wars (1977) }, sup= 31.92, conf= 97.10\n",
      "\n",
      "Rule #50: { Return of the Jedi (1983), Star Trek: First Contact (1996) } ==> { Star Wars (1977) }, sup= 30.65, conf= 96.98\n",
      "\n",
      "Rule #36: { Empire Strikes Back, The (1980), Raiders of the Lost Ark (1981) } ==> { Star Wars (1977) }, sup= 33.51, conf= 96.64\n",
      "\n",
      "Rule #31: { Independence Day (ID4) (1996), Return of the Jedi (1983) } ==> { Star Wars (1977) }, sup= 34.68, conf= 96.46\n",
      "\n",
      "Rule #65: { Contact (1997), Return of the Jedi (1983) } ==> { Star Wars (1977) }, sup= 30.22, conf= 95.64\n",
      "\n",
      "Rule #53: { Fargo (1996), Return of the Jedi (1983) } ==> { Star Wars (1977) }, sup= 34.99, conf= 95.38\n",
      "\n",
      "Rule #15: { Return of the Jedi (1983) } ==> { Star Wars (1977) }, sup= 50.90, conf= 94.67\n",
      "\n",
      "Rule #4: { Empire Strikes Back, The (1980) } ==> { Star Wars (1977) }, sup= 36.59, conf= 94.01\n",
      "\n",
      "Rule #61: { Raiders of the Lost Ark (1981), Silence of the Lambs, The (1991) } ==> { Star Wars (1977) }, sup= 30.86, conf= 93.57\n",
      "\n",
      "Rule #75: { Empire Strikes Back, The (1980), Return of the Jedi (1983), Star Wars (1977) } ==> { Raiders of the Lost Ark (1981) }, sup= 31.18, conf= 93.33\n",
      "\n",
      "Rule #41: { Empire Strikes Back, The (1980), Return of the Jedi (1983) } ==> { Raiders of the Lost Ark (1981) }, sup= 31.28, conf= 93.06\n",
      "\n",
      "Rule #72: { Empire Strikes Back, The (1980), Raiders of the Lost Ark (1981), Star Wars (1977) } ==> { Return of the Jedi (1983) }, sup= 31.18, conf= 93.04\n",
      "\n",
      "Rule #69: { Empire Strikes Back, The (1980), Return of the Jedi (1983) } ==> { Raiders of the Lost Ark (1981), Star Wars (1977) }, sup= 31.18, conf= 92.74\n",
      "\n",
      "Rule #56: { Pulp Fiction (1994), Raiders of the Lost Ark (1981) } ==> { Star Wars (1977) }, sup= 30.65, conf= 92.04\n",
      "\n",
      "Rule #27: { Indiana Jones and the Last Crusade (1989) } ==> { Star Wars (1977) }, sup= 32.24, conf= 91.84\n",
      "\n",
      "Rule #37: { Empire Strikes Back, The (1980), Star Wars (1977) } ==> { Raiders of the Lost Ark (1981) }, sup= 33.51, conf= 91.59\n",
      "\n",
      "Rule #49: { Star Trek: First Contact (1996), Star Wars (1977) } ==> { Return of the Jedi (1983) }, sup= 30.65, conf= 91.46\n",
      "\n",
      "Rule #33: { Empire Strikes Back, The (1980), Star Wars (1977) } ==> { Return of the Jedi (1983) }, sup= 33.40, conf= 91.30\n",
      "\n",
      "Rule #2: { Mission: Impossible (1996) } ==> { Independence Day (ID4) (1996) }, sup= 33.30, conf= 91.28\n",
      "\n",
      "Rule #23: { Raiders of the Lost Ark (1981) } ==> { Star Wars (1977) }, sup= 40.30, conf= 90.48\n",
      "\n",
      "Rule #30: { Independence Day (ID4) (1996), Star Wars (1977) } ==> { Return of the Jedi (1983) }, sup= 34.68, conf= 90.33\n",
      "\n",
      "Rule #40: { Empire Strikes Back, The (1980), Raiders of the Lost Ark (1981) } ==> { Return of the Jedi (1983) }, sup= 31.28, conf= 90.21\n",
      "\n",
      "Rule #68: { Empire Strikes Back, The (1980), Raiders of the Lost Ark (1981) } ==> { Return of the Jedi (1983), Star Wars (1977) }, sup= 31.18, conf= 89.91\n",
      "\n",
      "Rule #6: { Empire Strikes Back, The (1980) } ==> { Raiders of the Lost Ark (1981) }, sup= 34.68, conf= 89.10\n",
      "\n",
      "Rule #46: { Star Wars (1977), Twelve Monkeys (1995) } ==> { Return of the Jedi (1983) }, sup= 30.54, conf= 88.89\n",
      "\n",
      "Rule #64: { Raiders of the Lost Ark (1981), Star Wars (1977) } ==> { Return of the Jedi (1983) }, sup= 35.74, conf= 88.68\n",
      "\n",
      "Rule #3: { Forrest Gump (1994) } ==> { Star Wars (1977) }, sup= 30.12, conf= 88.47\n",
      "\n",
      "Rule #18: { Fugitive, The (1993) } ==> { Star Wars (1977) }, sup= 31.50, conf= 88.39\n",
      "\n",
      "Rule #8: { Back to the Future (1985) } ==> { Star Wars (1977) }, sup= 32.77, conf= 88.29\n",
      "\n",
      "Rule #22: { Princess Bride, The (1987) } ==> { Star Wars (1977) }, sup= 30.12, conf= 87.65\n",
      "\n",
      "Rule #57: { Pulp Fiction (1994), Star Wars (1977) } ==> { Raiders of the Lost Ark (1981) }, sup= 30.65, conf= 87.58\n",
      "\n",
      "Rule #47: { Star Wars (1977), Toy Story (1995) } ==> { Return of the Jedi (1983) }, sup= 35.31, conf= 87.40\n",
      "\n",
      "Rule #51: { Fargo (1996), Toy Story (1995) } ==> { Star Wars (1977) }, sup= 30.12, conf= 87.38\n",
      "\n",
      "Rule #29: { Indiana Jones and the Last Crusade (1989) } ==> { Raiders of the Lost Ark (1981) }, sup= 30.65, conf= 87.31\n",
      "\n",
      "Rule #74: { Raiders of the Lost Ark (1981), Return of the Jedi (1983), Star Wars (1977) } ==> { Empire Strikes Back, The (1980) }, sup= 31.18, conf= 87.24\n",
      "\n",
      "Rule #60: { Silence of the Lambs, The (1991), Star Wars (1977) } ==> { Raiders of the Lost Ark (1981) }, sup= 30.86, conf= 86.87\n",
      "\n",
      "Rule #25: { Star Trek: First Contact (1996) } ==> { Star Wars (1977) }, sup= 33.51, conf= 86.58\n",
      "\n",
      "Rule #21: { Godfather, The (1972) } ==> { Star Wars (1977) }, sup= 37.86, conf= 86.44\n",
      "\n",
      "Rule #5: { Empire Strikes Back, The (1980) } ==> { Return of the Jedi (1983) }, sup= 33.62, conf= 86.38\n",
      "\n",
      "Rule #55: { Pulp Fiction (1994), Star Wars (1977) } ==> { Return of the Jedi (1983) }, sup= 30.22, conf= 86.36\n",
      "\n",
      "Rule #43: { Silence of the Lambs, The (1991), Star Wars (1977) } ==> { Return of the Jedi (1983) }, sup= 30.65, conf= 86.27\n",
      "\n",
      "Rule #42: { Raiders of the Lost Ark (1981), Return of the Jedi (1983) } ==> { Empire Strikes Back, The (1980) }, sup= 31.28, conf= 86.26\n",
      "\n",
      "Rule #35: { Empire Strikes Back, The (1980) } ==> { Raiders of the Lost Ark (1981), Star Wars (1977) }, sup= 33.51, conf= 86.10\n",
      "\n",
      "Rule #70: { Raiders of the Lost Ark (1981), Return of the Jedi (1983) } ==> { Empire Strikes Back, The (1980), Star Wars (1977) }, sup= 31.18, conf= 85.96\n",
      "\n",
      "Rule #7: { Silence of the Lambs, The (1991) } ==> { Star Wars (1977) }, sup= 35.52, conf= 85.90\n",
      "\n",
      "Rule #32: { Empire Strikes Back, The (1980) } ==> { Return of the Jedi (1983), Star Wars (1977) }, sup= 33.40, conf= 85.83\n",
      "\n",
      "Rule #28: { Indiana Jones and the Last Crusade (1989) } ==> { Return of the Jedi (1983) }, sup= 30.01, conf= 85.50\n",
      "\n",
      "Rule #66: { Contact (1997), Star Wars (1977) } ==> { Return of the Jedi (1983) }, sup= 30.22, conf= 85.33\n",
      "\n",
      "Rule #71: { Empire Strikes Back, The (1980), Star Wars (1977) } ==> { Raiders of the Lost Ark (1981), Return of the Jedi (1983) }, sup= 31.18, conf= 85.22\n",
      "\n",
      "Rule #10: { Back to the Future (1985) } ==> { Raiders of the Lost Ark (1981) }, sup= 31.60, conf= 85.14\n",
      "\n",
      "Rule #19: { Fugitive, The (1993) } ==> { Raiders of the Lost Ark (1981) }, sup= 30.33, conf= 85.12\n",
      "\n",
      "Rule #1: { Independence Day (ID4) (1996) } ==> { Star Wars (1977) }, sup= 38.39, conf= 84.38\n",
      "\n",
      "Rule #59: { Godfather, The (1972), Star Wars (1977) } ==> { Return of the Jedi (1983) }, sup= 31.92, conf= 84.31\n",
      "\n",
      "Rule #26: { Mission: Impossible (1996) } ==> { Star Wars (1977) }, sup= 30.75, conf= 84.30\n",
      "\n",
      "Rule #13: { Toy Story (1995) } ==> { Star Wars (1977) }, sup= 40.40, conf= 84.29\n",
      "\n",
      "Rule #20: { Pulp Fiction (1994) } ==> { Star Wars (1977) }, sup= 34.99, conf= 83.76\n",
      "\n",
      "Rule #52: { Fargo (1996), Star Wars (1977) } ==> { Return of the Jedi (1983) }, sup= 34.99, conf= 83.76\n",
      "\n",
      "Rule #38: { Raiders of the Lost Ark (1981), Star Wars (1977) } ==> { Empire Strikes Back, The (1980) }, sup= 33.51, conf= 83.16\n",
      "\n",
      "Rule #12: { Twelve Monkeys (1995) } ==> { Star Wars (1977) }, sup= 34.36, conf= 82.65\n",
      "\n",
      "Rule #11: { Rock, The (1996) } ==> { Star Wars (1977) }, sup= 33.09, conf= 82.54\n",
      "\n",
      "Rule #14: { Star Wars (1977) } ==> { Return of the Jedi (1983) }, sup= 50.90, conf= 82.33\n",
      "\n",
      "Rule #9: { Back to the Future (1985) } ==> { Return of the Jedi (1983) }, sup= 30.33, conf= 81.71\n",
      "\n",
      "Rule #16: { Star Trek: First Contact (1996) } ==> { Return of the Jedi (1983) }, sup= 31.60, conf= 81.64\n",
      "\n",
      "Rule #17: { Twelve Monkeys (1995) } ==> { Fargo (1996) }, sup= 33.93, conf= 81.63\n",
      "\n",
      "Rule #24: { Raiders of the Lost Ark (1981) } ==> { Return of the Jedi (1983) }, sup= 36.27, conf= 81.43\n",
      "\n",
      "Rule #39: { Empire Strikes Back, The (1980) } ==> { Raiders of the Lost Ark (1981), Return of the Jedi (1983) }, sup= 31.28, conf= 80.38\n",
      "\n",
      "Rule #62: { Raiders of the Lost Ark (1981) } ==> { Return of the Jedi (1983), Star Wars (1977) }, sup= 35.74, conf= 80.24\n",
      "\n",
      "Rule #67: { Empire Strikes Back, The (1980) } ==> { Raiders of the Lost Ark (1981), Return of the Jedi (1983), Star Wars (1977) }, sup= 31.18, conf= 80.11\n",
      "--------------------------------------------------------\n"
     ]
    }
   ],
   "source": [
    "apr.generate_association_rules()"
   ]
  },
  {
   "cell_type": "markdown",
   "metadata": {},
   "source": [
    "The associations with the strongest confidence ( we take the first 3 as there is no limit in the question), are:\n",
    "\n",
    "Rule #73: { Empire Strikes Back, The (1980), Raiders of the Lost Ark (1981), Return of the Jedi (1983) } ==> { Star Wars (1977) }, sup= 31.18, conf= 99.66\n",
    "\n",
    "Rule #34: { Empire Strikes Back, The (1980), Return of the Jedi (1983) } ==> { Star Wars (1977) }, sup= 33.40, conf= 99.37\n",
    "\n",
    "Rule #54: { Pulp Fiction (1994), Return of the Jedi (1983) } ==> { Star Wars (1977) }, sup= 30.22, conf= 98.62\n",
    "\n",
    "Well the first 2 rules make a lot of sense. The first rule in particular is the association between a 3-itemset of 3 episodes of Star Wars with the first Star Wars movie. This make sense as we can expecte that Star Wars movies fans do not miss any episode, and also because the movies narrate one single long story and consequently the public will tende to not miss a piece of the story. The second rule also represents the same, but the first itemset is a 2-itemset and \"Raiders of the lost ark\" is not present, maybe it was the least succesfull episode?! The third has a 2 itemset with one of the Star War episode and Pulp Fiction with Star Wars(1977). This makes a litle less sense, as Pulp Fiction is not the same genre as Star Wars (in fact it has a lower Support compared to the 4th association rule which has Toy Story and Star Wars episode. Toy Story in my opinion is somewhat closer as genre to Star Wars than Pulp Fiction).\n",
    "The reason why we have among the association with the stronget confidence other movies other than Star Wars episodes may be that are all high suffesfully movies. FOr example Toy Story, Pulp Fiction, Silence of the Lambs, Twelve MOnkeys, The Godfather, are some of the most famous Hollywood movies ever. Therefore is more probable that people have watched them. "
   ]
  },
  {
   "cell_type": "markdown",
   "metadata": {},
   "source": [
    "#### 5.2.3 \n",
    "(1 point) Which movie has been bought by the most users? There are only few rules with more than three items. Why?"
   ]
  },
  {
   "cell_type": "markdown",
   "metadata": {},
   "source": [
    "The most frequent 1-itemset is { Star Wars (1977) } with support= 61.82 . This means that the movie Star Wars was the most bought movie of the list. \n",
    "The reason why there are only few rules with more than three items may be that we are dealing with 100000 different movies ,and therefore the purchasing decision made by customers are very scattered among the database. With a minimun support treshold of 30% means that 3 out of 10 people have seen the combination of those movies, and if all the movies had the same probbility to be watched, each movie had a probability of only 0,0003%, which is ridicolously small( and the probability of exactly those 3 movies would be immensily smaller). Therefore I think that a treshold of 30% as support, is already significant: it means that those movies are exceptionally succesfull and that they may (as for the Star Wars saga) have something that make more probable for people to whatch all the movies in that precise itemset. In fact the confidence are pretty high for the first rules."
   ]
  },
  {
   "cell_type": "markdown",
   "metadata": {},
   "source": [
    "#### 5.2.4\n",
    "(0.5 points) Often we are interested in rules with high confidence. Is it possible for\n",
    "itemsets to have very low support but still have a very high confidence?"
   ]
  },
  {
   "cell_type": "markdown",
   "metadata": {},
   "source": [
    "Yes, it is possible. It only means that we may be dealing with a large dataset and therefore the N of the support formula is very big. BUt on the other hand in the confidence formula, the denominator is not N, but only the support of the X in X-->Y. This means that we may be pretty sure that if somobody has watched movie a,b and c, has also watched movie d, but this does not imply that a lot of people are interested in movie a,b and c in the first place( for example few people may be highly interested in a specific type of movies or a director)"
   ]
  },
  {
   "cell_type": "markdown",
   "metadata": {},
   "source": [
    "## 5.3 Calculating support, confidence and interest\n",
    "\n",
    "Calculate these measures and write down how you computed things, not just the answers. \n",
    "\n",
    "\n",
    "#### 5.3.1\n",
    " Suppose we have market basket data consisting of 100 transactions and 20 items. The support for item $ \\text{a} = 45 \\%$, the support for item $ \\text{b} = 80 \\%$ and the support for itemset $ \\text{ {a,b }} = 30 \\%$. Let the support and confidence thresholds be 20$ \\%$ and 60$ \\%$, respectively.\n",
    "  \n",
    "1. (0.5 points) Compute the confidence of the association rule $ \\text{ {a } } \\rightarrow   \\text{{b }} $. Is the rule interesting according to the confidence measure?\n",
    "\n",
    "2. (0.5 points) Compute the interest measure (or lift, see slide 44 of chapter 6) for the association pattern $ \\text{ {a,b}}$. Describe the nature of the relationship between item $ \\text{a}$ and item $ \\text{b}$  in terms of the itemset measure.\n",
    "3. (1 points) What conclusion can you draw from the results of parts (1) and (2)?\n",
    "\n",
    "4. (1.5 points) Prove that if the confidence of the rule $ \\text{ {a } } \\rightarrow   \\text{{b }} $ is less than the support of $ \\text{ {b }}$  then\n",
    "$$\n",
    "c(  \\text{ {~a } } \\rightarrow   \\text{{b }})> c(  \\text{ {a } } \\rightarrow   \\text{{b }})\n",
    "$$\n",
    "and\n",
    "$$\n",
    "c(  \\text{ {~a } } \\rightarrow   \\text{{b }})> s( {b })\n",
    "$$\n",
    "\n",
    "where $ \\text{c(.)}$  denotes the rule confidence and  $ \\text{s(.)}$ denote the support of an itemset. \n",
    "\n",
    "Hint: To prove the statement rewrite the confidence and the support of the rule in terms of probabilities: \n",
    "$$\n",
    "c(  \\text{ {a } } \\rightarrow   \\text{{b }})=  \\frac{P( {a,b })}{P( {a })}\n",
    "$$\n",
    "\n",
    "and\n",
    "\n",
    "$$\n",
    "s( {b })=P( {b })\n",
    "$$\n",
    "\n",
    "Further more, make use of probability rules such as $p(b) = p(\\text{~}a,b) + p(a,b)$ and $p(\\text{~}a) = 1 - p(a)$ and algebraic rules such as $$ \\frac{p(a,b)}{p(b)} < p(a) \\rightarrow 1 - \\frac{p(a,b)}{p(b)} > 1 - p(a) $$\n"
   ]
  },
  {
   "cell_type": "markdown",
   "metadata": {},
   "source": [
    "    1-To compute the confidence we take the support count of the itemset {a,b} and we divide it by the support count of the itemset {a}.As we have exactly 100 transaction, we can treat the percentages as intergers. Therefore we have 30/45=0,66 or 66%. As our confidence treshold is 60% we can consider our association rule interesting\n",
    "    2- Lift is the division between  P(A|B) (which is the confidence) and P(A) (which is the support count of A). Therefore we have:\n",
    "    0,66/0,45=1,46 . We have a lift>1 and this means that the 2 items are positively correlated\n",
    "    3- The conclusion we can derive from the first 2 results are that our confidence for our association rule is slighlty above the treshold, and therefore we can consider the association interesting. Our lift is >1 therefore we can say that the 2 items are positively correlated.\n",
    "    \n",
    "    4- "
   ]
  },
  {
   "cell_type": "markdown",
   "metadata": {},
   "source": [
    "\n",
    "#### 5.3.2\n",
    "\n",
    "(3 points) Consider the relationships between customers who buy high-definition televisions and exercise machines as shown in Table 2 and 3.\n",
    "\n",
    "1. Compute the odd ratios for both tables.\n",
    "2. Compute the $\\phi$-coefficient for both tables.\n",
    "3. Compute the interest factor for both tables.\n",
    "\n",
    "For Table 3 you should compute measures given above separately for College\n",
    "Students and for Adults. For each of the measures, describe how the direction\n",
    "of association changes when data is pooled together (Table 2) instead of being\n",
    "separated into two groups (Table 3)\n",
    "\n",
    "##### Table 2: Two way contingency table between the sale of high-definition television and exercise machine\n",
    "| |   Buy Exercise machine |     |     |\n",
    "| :------------- | -------------:| :-----------:| :----------:| \n",
    "| **Buy HDTV     ** | yes | no | total |\n",
    "| yes  | 105| 87 | 192 | \n",
    "| no | 40| 62 | 102 |   \n",
    "| total | 145 | 149 | 294 | \n",
    " \n",
    "\n",
    "##### Table 3: Example of three-way contingency table\n",
    "| | |   Buy Exercise machine |     |     |\n",
    "|--- | :------------- | -------------:| :-----------:| :----------:| \n",
    "|**Customer group** | **Buy HDTV     ** | yes | no | total |\n",
    "|College students | yes  | 2| 9 | 11 | \n",
    "| | no | 5| 20 | 25 |\n",
    "| Working adults | yes  | 103| 78 | 181 | \n",
    "| | no | 35| 42 | 77 |  \n",
    "\n"
   ]
  },
  {
   "cell_type": "markdown",
   "metadata": {},
   "source": [
    "1-2 ODD RATIO , in this case, is defined by (TV&M/TV&¬M)/(¬TV&M)/ (¬TV&¬M) = (105/87)/(40/62)=1.8706"
   ]
  },
  {
   "cell_type": "code",
   "execution_count": 16,
   "metadata": {},
   "outputs": [
    {
     "name": "stdout",
     "output_type": "stream",
     "text": [
      "(1.8706896551724137, 0.014169339042785372)\n"
     ]
    }
   ],
   "source": [
    "#We can check if our computation is right with scipy\n",
    "\n",
    "import scipy.stats as stats\n",
    "oddsratio, pvalue = stats.fisher_exact([[105, 87], [40, 62\\\n",
    "print (oddsratio)"
   ]
  },
  {
   "cell_type": "markdown",
   "metadata": {},
   "source": [
    "1-3 Now we compute the odd ratio differentiating between College students and Working adults\n",
    "    Odd ratio for college students: (2/9)/(5/20)=0,88\n",
    "    Odd ratio for working adults: (103/78)/(35/42)= 1,58"
   ]
  },
  {
   "cell_type": "code",
   "execution_count": 15,
   "metadata": {},
   "outputs": [
    {
     "name": "stdout",
     "output_type": "stream",
     "text": [
      "('College students odd ratio:', 0.88888888888888884)\n",
      "('Working adults odd ratio:', 1.5846153846153845)\n"
     ]
    }
   ],
   "source": [
    "#Again we can check if our computation are right\n",
    "\n",
    "oddsratioColl, pvalue = stats.fisher_exact([[2, 9], [5, 20]])\n",
    "oddsratioAdul, pvalue = stats.fisher_exact([[103, 78], [35, 42]])\n",
    "\n",
    "print (\"College students odd ratio:\",oddsratioColl)\n",
    "print (\"Working adults odd ratio:\",oddsratioAdul)\n"
   ]
  },
  {
   "cell_type": "markdown",
   "metadata": {},
   "source": [
    "As we see , when the data are divided in 2 different groups, the odd ratio changes. We can notice how the Working Adult group count for the most part. This means that the presence of the property of \"own a HDTV\" is more strongly associated with the property \"bought a exercise machine\" in the working adult group rather than the college student group. In particular , for the case being, this association is double for the working adult group than the college students.\n",
    "\n",
    "For self study:\n",
    "1- http://www.statisticshowto.com/odds-ratio/\n",
    "2- https://en.wikipedia.org/wiki/Odds_ratio\n",
    "3- https://en.wikipedia.org/wiki/Odds#Better_than.2Fworse_than_evens"
   ]
  },
  {
   "attachments": {
    "image.png": {
     "image/png": "[encoded data removed]"
    }
   },
   "cell_type": "markdown",
   "metadata": {},
   "source": [
    "2-2   The formula of the ϕ-coefficient is kindly provided by wikipedia in the form of this image. In our case 1=yes and 0=no: ![image.png](attachment:image.png)"
   ]
  },
  {
   "cell_type": "code",
   "execution_count": 17,
   "metadata": {
    "collapsed": true
   },
   "outputs": [],
   "source": [
    "import math"
   ]
  },
  {
   "cell_type": "code",
   "execution_count": 19,
   "metadata": {},
   "outputs": [
    {
     "name": "stdout",
     "output_type": "stream",
     "text": [
      "('phi coefficient Table 1', 0.14730408574297146)\n"
     ]
    }
   ],
   "source": [
    "#Therefore we will simply use our data to compute the phi coeffiecient. \n",
    "print (\"phi coefficient Table 1\",(105*62-87*40)/math.sqrt(192*102*145*149))\n",
    "\n",
    "For self study:\n",
    "#http://www.pmean.com/definitions/phi.htm"
   ]
  },
  {
   "cell_type": "code",
   "execution_count": 21,
   "metadata": {},
   "outputs": [
    {
     "name": "stdout",
     "output_type": "stream",
     "text": [
      "('phi coefficient Table 2, Working adults', 0.10505532503242583)\n",
      "('phi coefficient Table 2, College Students', -0.021161947784524245)\n"
     ]
    }
   ],
   "source": [
    "#Therefore we will simply use our data to compute the phi coeffiecient. \n",
    "\n",
    "print (\"phi coefficient Table 2, Working adults\",(103*42-78*35)/math.sqrt(181*77*138*120))\n",
    "\n",
    "print (\"phi coefficient Table 2, College Students\",(2*20-9*5)/math.sqrt(11*25*7*29))"
   ]
  },
  {
   "cell_type": "markdown",
   "metadata": {},
   "source": [
    "As we have noticed for the odd ratios , we have again a different description of the association between the property of \"own a HDTV\" and the property \"bought a exercise machine\" when we separate the original group in two subgroups. On the other hand the association in both cases and in both tables is very close to zero, which , for this specific measures, means that the association is either very weak or there is no association at all. "
   ]
  },
  {
   "cell_type": "markdown",
   "metadata": {},
   "source": [
    "Now we can copmute the interest factor which is defined by Nf11/(f1+)*(f+1)"
   ]
  },
  {
   "cell_type": "code",
   "execution_count": 42,
   "metadata": {},
   "outputs": [
    {
     "name": "stdout",
     "output_type": "stream",
     "text": [
      "the interest factor for the first table is 1.1088362068965518\n"
     ]
    }
   ],
   "source": [
    "print(\"the interest factor for the first table is\", (294*105/(145*192)))"
   ]
  },
  {
   "cell_type": "code",
   "execution_count": 47,
   "metadata": {},
   "outputs": [
    {
     "name": "stdout",
     "output_type": "stream",
     "text": [
      "the interest factor for the second table for Students is 0.935064935064935\n"
     ]
    }
   ],
   "source": [
    "print (\"the interest factor for the second table for Students is\", 36*2/(11*7))"
   ]
  },
  {
   "cell_type": "code",
   "execution_count": 46,
   "metadata": {},
   "outputs": [
    {
     "name": "stdout",
     "output_type": "stream",
     "text": [
      "the interest factor for the second table for Working adults is 1.0638962286812395\n"
     ]
    }
   ],
   "source": [
    "print (\"the interest factor for the second table for Working adults is\", 103*258/(138*181))"
   ]
  },
  {
   "cell_type": "markdown",
   "metadata": {},
   "source": [
    "As w see from the result , there is a slightly negative correlation for the Students and a slightly positivie correlation for the WOrking Adults once the table 2 is divided in 2 subgroups. Therefore again here, we notice how the WOrking Adult group describes better the correlation we have found in Table 2 , even though the correltion is so close to 1 that does not look very relevant. On the other side the Students group reveal a negative correlation , when its interest factor is computed separately."
   ]
  },
  {
   "cell_type": "code",
   "execution_count": null,
   "metadata": {
    "collapsed": true
   },
   "outputs": [],
   "source": []
  }
 ],
 "metadata": {
  "anaconda-cloud": {},
  "kernelspec": {
   "display_name": "Python 3",
   "language": "python",
   "name": "python3"
  },
  "language_info": {
   "codemirror_mode": {
    "name": "ipython",
    "version": 3
   },
   "file_extension": ".py",
   "mimetype": "text/x-python",
   "name": "python",
   "nbconvert_exporter": "python",
   "pygments_lexer": "ipython3",
   "version": "3.6.1"
  }
 },
 "nbformat": 4,
 "nbformat_minor": 1
}
